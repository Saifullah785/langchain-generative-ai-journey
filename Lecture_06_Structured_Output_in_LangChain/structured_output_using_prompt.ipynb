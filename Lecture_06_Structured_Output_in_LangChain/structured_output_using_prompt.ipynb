{
 "cells": [
  {
   "cell_type": "code",
   "execution_count": null,
   "id": "65262176",
   "metadata": {},
   "outputs": [],
   "source": [
    "# Import necessary libraries and modules for the workflow:\n",
    "# - HuggingFaceEndpoint for LLM API access\n",
    "# - dotenv for loading environment variables\n",
    "# - typing for type hints (not used directly here)\n",
    "# - os for environment variable access\n",
    "# - json for parsing model output\n",
    "\n",
    "\n",
    "from langchain_huggingface import HuggingFaceEndpoint\n",
    "from dotenv import load_dotenv\n",
    "from typing import TypedDict, Annotated, Optional, Literal\n",
    "import os\n",
    "import json"
   ]
  },
  {
   "cell_type": "code",
   "execution_count": null,
   "id": "1e1b4fbd",
   "metadata": {},
   "outputs": [
    {
     "name": "stderr",
     "output_type": "stream",
     "text": [
      "d:\\practicing_langchain_models\\venv\\Lib\\site-packages\\tqdm\\auto.py:21: TqdmWarning: IProgress not found. Please update jupyter and ipywidgets. See https://ipywidgets.readthedocs.io/en/stable/user_install.html\n",
      "  from .autonotebook import tqdm as notebook_tqdm\n"
     ]
    }
   ],
   "source": [
    "# Load environment variables from .env file (for API keys, etc.)\n",
    "load_dotenv()\n",
    "\n",
    "# Initialize the HuggingFaceEndpoint with the specified model and API token.\n",
    "\n",
    "model = HuggingFaceEndpoint(\n",
    "    repo_id=\"mistralai/Mixtral-8x7B-Instruct-v0.1\",  # Corrected from model_id to repo_id\n",
    "    huggingfacehub_api_token=os.getenv(\"HUGGINGFACEHUB_API_TOKEN\"),\n",
    ")"
   ]
  },
  {
   "cell_type": "code",
   "execution_count": null,
   "id": "c394fd85",
   "metadata": {},
   "outputs": [],
   "source": [
    "# Define a prompt that instructs the LLM to extract structured information from a review.\n",
    "# The prompt requests a JSON object with specific fields: key_themes, summary, sentiment, pros, cons, and name.\n",
    "\n",
    "prompt = \"\"\"\n",
    "Extract the following fields from the review and return them as a JSON object with these keys:\n",
    "- key_themes: list of key themes discussed\n",
    "- summary: brief summary\n",
    "- sentiment: \"pos\" or \"neg\"\n",
    "- pros: list of pros\n",
    "- cons: list of cons\n",
    "- name: reviewer name\n",
    "\n",
    "Review:\n",
    "I recently upgraded to the Samsung Galaxy S24 Ultra, and I must say, it’s an absolute powerhouse! The Snapdragon 8 Gen 3 processor makes everything lightning fast—whether I’m gaming, multitasking, or editing photos. The 5000mAh battery easily lasts a full day even with heavy use, and the 45W fast charging is a lifesaver.\n",
    "\n",
    "The S-Pen integration is a great touch for note-taking and quick sketches, though I don't use it often. What really blew me away is the 200MP camera—the night mode is stunning, capturing crisp, vibrant images even in low light. Zooming up to 100x actually works well for distant objects, but anything beyond 30x loses quality.\n",
    "\n",
    "However, the weight and size make it a bit uncomfortable for one-handed use. Also, Samsung’s One UI still comes with bloatware—why do I need five different Samsung apps for things Google already provides? The $1,300 price tag is also a hard pill to swallow.\n",
    "\n",
    "Pros:\n",
    "Insanely powerful processor (great for gaming and productivity)\n",
    "Stunning 200MP camera with incredible zoom capabilities\n",
    "Long battery life with fast charging\n",
    "S-Pen support is unique and useful\n",
    "\n",
    "Review by saifullah\n",
    "\"\"\""
   ]
  },
  {
   "cell_type": "code",
   "execution_count": null,
   "id": "cd0ca00c",
   "metadata": {},
   "outputs": [
    {
     "name": "stdout",
     "output_type": "stream",
     "text": [
      "['performance', 'battery life', 'camera', 'size', 'price', 'S-Pen']\n",
      "The Samsung Galaxy S24 Ultra offers impressive performance, long battery life, and a stunning 200MP camera, but its large size and high price tag may be a turn-off.\n",
      "pos\n",
      "['insanely powerful processor (great for gaming and productivity)', 'stunning 200MP camera with incredible zoom capabilities', 'long battery life with fast charging', 'S-Pen support is unique and useful']\n",
      "['large size makes it uncomfortable for one-handed use', 'high price tag', \"Samsung's One UI still comes with bloatware\"]\n",
      "saifullah\n"
     ]
    }
   ],
   "source": [
    "# Send the prompt to the model and get the response.\n",
    "response = model.invoke(prompt)\n",
    "\n",
    "# Try to parse the model's response as JSON and print each field.\n",
    "# If parsing fails, print the raw output for debugging.\n",
    "try:\n",
    "    result = json.loads(response)\n",
    "    print(result[\"key_themes\"])\n",
    "    print(result[\"summary\"])\n",
    "    print(result[\"sentiment\"])\n",
    "    print(result[\"pros\"])\n",
    "    print(result[\"cons\"])\n",
    "    print(result[\"name\"])\n",
    "except Exception as e:\n",
    "    print(\"Could not parse model output as JSON. Raw output:\")\n",
    "    print(response)\n"
   ]
  }
 ],
 "metadata": {
  "kernelspec": {
   "display_name": "venv",
   "language": "python",
   "name": "python3"
  },
  "language_info": {
   "codemirror_mode": {
    "name": "ipython",
    "version": 3
   },
   "file_extension": ".py",
   "mimetype": "text/x-python",
   "name": "python",
   "nbconvert_exporter": "python",
   "pygments_lexer": "ipython3",
   "version": "3.13.0"
  }
 },
 "nbformat": 4,
 "nbformat_minor": 5
}
