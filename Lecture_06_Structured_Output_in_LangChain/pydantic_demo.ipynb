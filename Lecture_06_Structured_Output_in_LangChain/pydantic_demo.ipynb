{
 "cells": [
  {
   "cell_type": "markdown",
   "id": "df69b246",
   "metadata": {},
   "source": [
    "# Pydantic \n",
    "\n",
    "Pydantic is a data validation and data parser library\n",
    "for python. it ensures that the data you are working with is correct, structured, and type-safe.\n",
    "\n",
    "Baic example\n",
    "\n",
    "Default values\n",
    "\n",
    "Optional fields\n",
    "\n",
    "Coerce\n",
    "\n",
    "built-in validation\n",
    "\n",
    "field functions -> default values, constraints, descriptions, regex and expression\n",
    "\n",
    "Returns pydantic objects -> convert to json, dict, etc.\n",
    "\n",
    "\n"
   ]
  },
  {
   "cell_type": "code",
   "execution_count": 32,
   "id": "cad2cd4b",
   "metadata": {},
   "outputs": [
    {
     "name": "stdout",
     "output_type": "stream",
     "text": [
      "name='Saifullah'\n"
     ]
    }
   ],
   "source": [
    "# Basic example: Define a simple Pydantic model and create an instance from a dictionary.\n",
    "\n",
    "from pydantic import BaseModel\n",
    "\n",
    "class Student(BaseModel):\n",
    "\n",
    "    name: str\n",
    "    \n",
    "new_student = {'name':\"Saifullah\"}\n",
    "\n",
    "\n",
    "student = Student(**new_student)\n",
    "\n",
    "print(student)  "
   ]
  },
  {
   "cell_type": "code",
   "execution_count": 33,
   "id": "d9b06369",
   "metadata": {},
   "outputs": [
    {
     "name": "stdout",
     "output_type": "stream",
     "text": [
      "<class '__main__.Student'>\n"
     ]
    }
   ],
   "source": [
    "# Show the type of the Pydantic model instance.\n",
    "\n",
    "from pydantic import BaseModel\n",
    "\n",
    "class Student(BaseModel):\n",
    "\n",
    "    name: str\n",
    "    \n",
    "new_student = {'name':\"Saifullah\"}\n",
    "\n",
    "\n",
    "student = Student(**new_student)\n",
    "\n",
    "print(type(student))  "
   ]
  },
  {
   "cell_type": "code",
   "execution_count": 34,
   "id": "1badd35e",
   "metadata": {},
   "outputs": [
    {
     "ename": "ValidationError",
     "evalue": "1 validation error for Student\nname\n  Input should be a valid string [type=string_type, input_value=32, input_type=int]\n    For further information visit https://errors.pydantic.dev/2.11/v/string_type",
     "output_type": "error",
     "traceback": [
      "\u001b[31m---------------------------------------------------------------------------\u001b[39m",
      "\u001b[31mValidationError\u001b[39m                           Traceback (most recent call last)",
      "\u001b[36mCell\u001b[39m\u001b[36m \u001b[39m\u001b[32mIn[34]\u001b[39m\u001b[32m, line 12\u001b[39m\n\u001b[32m      7\u001b[39m     name: \u001b[38;5;28mstr\u001b[39m\n\u001b[32m      9\u001b[39m new_student = {\u001b[33m'\u001b[39m\u001b[33mname\u001b[39m\u001b[33m'\u001b[39m:\u001b[32m32\u001b[39m}\n\u001b[32m---> \u001b[39m\u001b[32m12\u001b[39m student = \u001b[43mStudent\u001b[49m\u001b[43m(\u001b[49m\u001b[43m*\u001b[49m\u001b[43m*\u001b[49m\u001b[43mnew_student\u001b[49m\u001b[43m)\u001b[49m\n\u001b[32m     14\u001b[39m \u001b[38;5;28mprint\u001b[39m(student) \n",
      "\u001b[36mFile \u001b[39m\u001b[32md:\\practicing_langchain_models\\venv\\Lib\\site-packages\\pydantic\\main.py:253\u001b[39m, in \u001b[36mBaseModel.__init__\u001b[39m\u001b[34m(self, **data)\u001b[39m\n\u001b[32m    251\u001b[39m \u001b[38;5;66;03m# `__tracebackhide__` tells pytest and some other tools to omit this function from tracebacks\u001b[39;00m\n\u001b[32m    252\u001b[39m __tracebackhide__ = \u001b[38;5;28;01mTrue\u001b[39;00m\n\u001b[32m--> \u001b[39m\u001b[32m253\u001b[39m validated_self = \u001b[38;5;28;43mself\u001b[39;49m\u001b[43m.\u001b[49m\u001b[43m__pydantic_validator__\u001b[49m\u001b[43m.\u001b[49m\u001b[43mvalidate_python\u001b[49m\u001b[43m(\u001b[49m\u001b[43mdata\u001b[49m\u001b[43m,\u001b[49m\u001b[43m \u001b[49m\u001b[43mself_instance\u001b[49m\u001b[43m=\u001b[49m\u001b[38;5;28;43mself\u001b[39;49m\u001b[43m)\u001b[49m\n\u001b[32m    254\u001b[39m \u001b[38;5;28;01mif\u001b[39;00m \u001b[38;5;28mself\u001b[39m \u001b[38;5;129;01mis\u001b[39;00m \u001b[38;5;129;01mnot\u001b[39;00m validated_self:\n\u001b[32m    255\u001b[39m     warnings.warn(\n\u001b[32m    256\u001b[39m         \u001b[33m'\u001b[39m\u001b[33mA custom validator is returning a value other than `self`.\u001b[39m\u001b[38;5;130;01m\\n\u001b[39;00m\u001b[33m'\u001b[39m\n\u001b[32m    257\u001b[39m         \u001b[33m\"\u001b[39m\u001b[33mReturning anything other than `self` from a top level model validator isn\u001b[39m\u001b[33m'\u001b[39m\u001b[33mt supported when validating via `__init__`.\u001b[39m\u001b[38;5;130;01m\\n\u001b[39;00m\u001b[33m\"\u001b[39m\n\u001b[32m    258\u001b[39m         \u001b[33m'\u001b[39m\u001b[33mSee the `model_validator` docs (https://docs.pydantic.dev/latest/concepts/validators/#model-validators) for more details.\u001b[39m\u001b[33m'\u001b[39m,\n\u001b[32m    259\u001b[39m         stacklevel=\u001b[32m2\u001b[39m,\n\u001b[32m    260\u001b[39m     )\n",
      "\u001b[31mValidationError\u001b[39m: 1 validation error for Student\nname\n  Input should be a valid string [type=string_type, input_value=32, input_type=int]\n    For further information visit https://errors.pydantic.dev/2.11/v/string_type"
     ]
    }
   ],
   "source": [
    "# Demonstrate type validation: passing an integer instead of a string for 'name'.\n",
    "\n",
    "from pydantic import BaseModel\n",
    "\n",
    "class Student(BaseModel):\n",
    "\n",
    "    name: str\n",
    "    \n",
    "new_student = {'name':32}\n",
    "\n",
    "\n",
    "student = Student(**new_student)\n",
    "\n",
    "print(student) "
   ]
  },
  {
   "cell_type": "code",
   "execution_count": null,
   "id": "69ecf41e",
   "metadata": {},
   "outputs": [
    {
     "name": "stdout",
     "output_type": "stream",
     "text": [
      "saifullah\n"
     ]
    }
   ],
   "source": [
    "# Using default values: 'name' will default to 'saifullah' if not provided.\n",
    "\n",
    "from pydantic import BaseModel\n",
    "\n",
    "class Student(BaseModel):\n",
    "\n",
    "    name: str = 'saifullah'\n",
    "    \n",
    "new_student = {}\n",
    "\n",
    "\n",
    "student = Student(**new_student)\n",
    "\n",
    "print(student.name) "
   ]
  },
  {
   "cell_type": "code",
   "execution_count": null,
   "id": "392ea76a",
   "metadata": {},
   "outputs": [
    {
     "name": "stdout",
     "output_type": "stream",
     "text": [
      "name='saifullah' age=25\n"
     ]
    }
   ],
   "source": [
    "# Using Optional fields: 'age' can be omitted or set to None.\n",
    "\n",
    "from pydantic import BaseModel\n",
    "from typing import Optional\n",
    "\n",
    "class Student(BaseModel):\n",
    "\n",
    "    name: str = 'saifullah'\n",
    "    age: Optional[int] = None\n",
    "    \n",
    "new_student = {'age': '25'}\n",
    "\n",
    "\n",
    "student = Student(**new_student)\n",
    "\n",
    "print(student) "
   ]
  },
  {
   "cell_type": "code",
   "execution_count": null,
   "id": "ff1062e5",
   "metadata": {},
   "outputs": [
    {
     "name": "stdout",
     "output_type": "stream",
     "text": [
      "Requirement already satisfied: pydantic[email] in d:\\practicing_langchain_models\\venv\\lib\\site-packages (2.11.6)\n",
      "Requirement already satisfied: annotated-types>=0.6.0 in d:\\practicing_langchain_models\\venv\\lib\\site-packages (from pydantic[email]) (0.7.0)\n",
      "Requirement already satisfied: pydantic-core==2.33.2 in d:\\practicing_langchain_models\\venv\\lib\\site-packages (from pydantic[email]) (2.33.2)\n",
      "Requirement already satisfied: typing-extensions>=4.12.2 in d:\\practicing_langchain_models\\venv\\lib\\site-packages (from pydantic[email]) (4.14.0)\n",
      "Requirement already satisfied: typing-inspection>=0.4.0 in d:\\practicing_langchain_models\\venv\\lib\\site-packages (from pydantic[email]) (0.4.1)\n",
      "Collecting email-validator>=2.0.0 (from pydantic[email])\n",
      "  Downloading email_validator-2.2.0-py3-none-any.whl.metadata (25 kB)\n",
      "Collecting dnspython>=2.0.0 (from email-validator>=2.0.0->pydantic[email])\n",
      "  Downloading dnspython-2.7.0-py3-none-any.whl.metadata (5.8 kB)\n",
      "Requirement already satisfied: idna>=2.0.0 in d:\\practicing_langchain_models\\venv\\lib\\site-packages (from email-validator>=2.0.0->pydantic[email]) (3.10)\n",
      "Downloading email_validator-2.2.0-py3-none-any.whl (33 kB)\n",
      "Downloading dnspython-2.7.0-py3-none-any.whl (313 kB)\n",
      "Installing collected packages: dnspython, email-validator\n",
      "\n",
      "   ---------------------------------------- 0/2 [dnspython]\n",
      "   ---------------------------------------- 0/2 [dnspython]\n",
      "   ---------------------------------------- 0/2 [dnspython]\n",
      "   ---------------------------------------- 0/2 [dnspython]\n",
      "   ---------------------------------------- 0/2 [dnspython]\n",
      "   ---------------------------------------- 0/2 [dnspython]\n",
      "   ---------------------------------------- 0/2 [dnspython]\n",
      "   ---------------------------------------- 0/2 [dnspython]\n",
      "   ---------------------------------------- 0/2 [dnspython]\n",
      "   ---------------------------------------- 0/2 [dnspython]\n",
      "   ---------------------------------------- 0/2 [dnspython]\n",
      "   ---------------------------------------- 0/2 [dnspython]\n",
      "   ---------------------------------------- 0/2 [dnspython]\n",
      "   ---------------------------------------- 0/2 [dnspython]\n",
      "   ---------------------------------------- 0/2 [dnspython]\n",
      "   ---------------------------------------- 0/2 [dnspython]\n",
      "   ---------------------------------------- 0/2 [dnspython]\n",
      "   ---------------------------------------- 0/2 [dnspython]\n",
      "   ---------------------------------------- 0/2 [dnspython]\n",
      "   ---------------------------------------- 0/2 [dnspython]\n",
      "   ---------------------------------------- 0/2 [dnspython]\n",
      "   ---------------------------------------- 0/2 [dnspython]\n",
      "   -------------------- ------------------- 1/2 [email-validator]\n",
      "   -------------------- ------------------- 1/2 [email-validator]\n",
      "   ---------------------------------------- 2/2 [email-validator]\n",
      "\n",
      "Successfully installed dnspython-2.7.0 email-validator-2.2.0\n"
     ]
    }
   ],
   "source": [
    "# Install Pydantic with email validation support.\n",
    "\n",
    "! pip install pydantic[email]"
   ]
  },
  {
   "cell_type": "code",
   "execution_count": null,
   "id": "d9e6eddc",
   "metadata": {},
   "outputs": [
    {
     "name": "stdout",
     "output_type": "stream",
     "text": [
      "name='saifullah' age=25 email='abc1@gmail.com'\n"
     ]
    }
   ],
   "source": [
    "# Add email validation using EmailStr and demonstrate coercion of types.\n",
    "\n",
    "from pydantic import BaseModel, EmailStr\n",
    "from typing import Optional\n",
    "\n",
    "class Student(BaseModel):\n",
    "\n",
    "    name: str = 'saifullah'\n",
    "    age: Optional[int] = None\n",
    "    email: EmailStr\n",
    "    \n",
    "new_student = {'age': '25', 'email': 'abc1@gmail.com'}\n",
    "\n",
    "\n",
    "student = Student(**new_student)\n",
    "\n",
    "print(student) "
   ]
  },
  {
   "cell_type": "code",
   "execution_count": null,
   "id": "e36bfdb7",
   "metadata": {},
   "outputs": [
    {
     "name": "stdout",
     "output_type": "stream",
     "text": [
      "Requirement already satisfied: pydantic[field] in d:\\practicing_langchain_models\\venv\\lib\\site-packages (2.11.6)\n",
      "Requirement already satisfied: annotated-types>=0.6.0 in d:\\practicing_langchain_models\\venv\\lib\\site-packages (from pydantic[field]) (0.7.0)\n",
      "Requirement already satisfied: pydantic-core==2.33.2 in d:\\practicing_langchain_models\\venv\\lib\\site-packages (from pydantic[field]) (2.33.2)\n",
      "Requirement already satisfied: typing-extensions>=4.12.2 in d:\\practicing_langchain_models\\venv\\lib\\site-packages (from pydantic[field]) (4.14.0)\n",
      "Requirement already satisfied: typing-inspection>=0.4.0 in d:\\practicing_langchain_models\\venv\\lib\\site-packages (from pydantic[field]) (0.4.1)\n"
     ]
    },
    {
     "name": "stderr",
     "output_type": "stream",
     "text": [
      "WARNING: pydantic 2.11.6 does not provide the extra 'field'\n"
     ]
    }
   ],
   "source": [
    "# Install Pydantic with field constraints support.\n",
    "\n",
    "! pip install pydantic[field]"
   ]
  },
  {
   "cell_type": "code",
   "execution_count": null,
   "id": "0c1e8194",
   "metadata": {},
   "outputs": [
    {
     "name": "stdout",
     "output_type": "stream",
     "text": [
      "name='saifullah' age=25 email='abc1@gmail.com' cgpa=3.5\n"
     ]
    }
   ],
   "source": [
    "# Use Field to add constraints and descriptions to model fields.\n",
    "\n",
    "from pydantic import BaseModel, EmailStr, Field\n",
    "from typing import Optional\n",
    "\n",
    "class Student(BaseModel):\n",
    "\n",
    "    name: str = 'saifullah'\n",
    "    age: Optional[int] = None\n",
    "    email: EmailStr\n",
    "    cgpa :float = Field(gt=0, lt=4.0, default=2.5,description=\"CGPA of the student\")\n",
    "    \n",
    "new_student = {'age': '25', 'email': 'abc1@gmail.com', 'cgpa': 3.5} \n",
    "\n",
    "\n",
    "student = Student(**new_student)\n",
    "\n",
    "print(student) "
   ]
  },
  {
   "cell_type": "code",
   "execution_count": null,
   "id": "155c800d",
   "metadata": {},
   "outputs": [
    {
     "name": "stdout",
     "output_type": "stream",
     "text": [
      "3.5\n"
     ]
    }
   ],
   "source": [
    "# Convert Pydantic model to dict and JSON, and access field values.\n",
    "\n",
    "from pydantic import BaseModel, EmailStr, Field\n",
    "from typing import Optional\n",
    "\n",
    "class Student(BaseModel):\n",
    "\n",
    "    name: str = 'saifullah'\n",
    "    age: Optional[int] = None\n",
    "    email: EmailStr\n",
    "    cgpa :float = Field(gt=0, lt=4.0, default=2.5,description=\"CGPA of the student\")\n",
    "    \n",
    "new_student = {'age': '25', 'email': 'abc1@gmail.com', 'cgpa': 3.5} \n",
    "\n",
    "\n",
    "student = Student(**new_student)\n",
    "\n",
    "student_dict = dict(student)\n",
    "\n",
    "print(student_dict['cgpa'])\n",
    "\n",
    "student_json = student.model_dump_json()  # Accessing the description field from the Field definition"
   ]
  }
 ],
 "metadata": {
  "kernelspec": {
   "display_name": "venv",
   "language": "python",
   "name": "python3"
  },
  "language_info": {
   "codemirror_mode": {
    "name": "ipython",
    "version": 3
   },
   "file_extension": ".py",
   "mimetype": "text/x-python",
   "name": "python",
   "nbconvert_exporter": "python",
   "pygments_lexer": "ipython3",
   "version": "3.13.0"
  }
 },
 "nbformat": 4,
 "nbformat_minor": 5
}
