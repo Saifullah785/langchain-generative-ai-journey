{
 "cells": [
  {
   "cell_type": "markdown",
   "id": "a69470c0",
   "metadata": {},
   "source": [
    "This notebook demonstrates how to extract structured information from a product review using Python, regular expressions, and a BERT transformer model for sentiment analysis. \n",
    "\n",
    "It defines a schema for the structured output using Python's TypedDict with type annotations, then processes a sample review to extract key themes, a summary, sentiment (positive or negative), pros, cons, and the reviewer's name. \n",
    "\n",
    "The notebook uses regex to parse the review text, identifies relevant keywords, and leverages HuggingFace's BERT model to classify the sentiment. \n",
    "\n",
    "The final output is a structured dictionary containing all extracted and inferred information, making it suitable for downstream tasks such as analytics or database storage."
   ]
  },
  {
   "cell_type": "code",
   "execution_count": 23,
   "id": "9298c2d2",
   "metadata": {},
   "outputs": [
    {
     "data": {
      "text/plain": [
       "True"
      ]
     },
     "execution_count": 23,
     "metadata": {},
     "output_type": "execute_result"
    }
   ],
   "source": [
    "# Import necessary libraries: HuggingFace Transformers for BERT, PyTorch, regex, typing for type hints, and dotenv for environment variables.\n",
    "from transformers import BertForSequenceClassification, BertTokenizer\n",
    "import torch\n",
    "import re\n",
    "from typing import TypedDict, Annotated, Optional, Literal\n",
    "from dotenv import load_dotenv\n",
    "load_dotenv()"
   ]
  },
  {
   "cell_type": "code",
   "execution_count": 24,
   "id": "06b0f0d7",
   "metadata": {},
   "outputs": [],
   "source": [
    "# Define a TypedDict schema for structured review output, with annotations for each field.\n",
    "class Review(TypedDict):\n",
    "    key_themes: Annotated[list[str], \"Key themes in the review\"]\n",
    "    summary: Annotated[str, \"Brief summary\"]\n",
    "    sentiment: Annotated[Literal[\"pos\", \"neg\"], \"Sentiment: pos or neg\"]\n",
    "    pros: Annotated[Optional[list[str]], \"Pros as a list\"]\n",
    "    cons: Annotated[Optional[list[str]], \"Cons as a list\"]\n",
    "    name: Annotated[Optional[str], \"Reviewer name\"]"
   ]
  },
  {
   "cell_type": "code",
   "execution_count": 25,
   "id": "99f87d32",
   "metadata": {},
   "outputs": [
    {
     "name": "stderr",
     "output_type": "stream",
     "text": [
      "Some weights of BertForSequenceClassification were not initialized from the model checkpoint at google-bert/bert-base-uncased and are newly initialized: ['classifier.bias', 'classifier.weight']\n",
      "You should probably TRAIN this model on a down-stream task to be able to use it for predictions and inference.\n"
     ]
    }
   ],
   "source": [
    "# Load the BERT tokenizer and model for sequence classification from HuggingFace.\n",
    "tokenizer = BertTokenizer.from_pretrained(\"google-bert/bert-base-uncased\")\n",
    "model = BertForSequenceClassification.from_pretrained(\"google-bert/bert-base-uncased\")\n"
   ]
  },
  {
   "cell_type": "code",
   "execution_count": 26,
   "id": "0db6d6dc",
   "metadata": {},
   "outputs": [],
   "source": [
    "# Example review text to be processed and structured.\n",
    "review_text = \"\"\"I recently upgraded to the Samsung Galaxy S24 Ultra, and I must say, it’s an absolute powerhouse! The Snapdragon 8 Gen 3 processor makes everything lightning fast—whether I’m gaming, multitasking, or editing photos. The 5000mAh battery easily lasts a full day even with heavy use, and the 45W fast charging is a lifesaver.\n",
    "\n",
    "The S-Pen integration is a great touch for note-taking and quick sketches, though I don't use it often. What really blew me away is the 200MP camera—the night mode is stunning, capturing crisp, vibrant images even in low light. Zooming up to 100x actually works well for distant objects, but anything beyond 30x loses quality.\n",
    "\n",
    "However, the weight and size make it a bit uncomfortable for one-handed use. Also, Samsung’s One UI still comes with bloatware—why do I need five different Samsung apps for things Google already provides? The $1,300 price tag is also a hard pill to swallow.\n",
    "\n",
    "Pros:\n",
    "Insanely powerful processor (great for gaming and productivity)\n",
    "Stunning 200MP camera with incredible zoom capabilities\n",
    "Long battery life with fast charging\n",
    "S-Pen support is unique and useful\n",
    "                                 \n",
    "Review by saifullah\n",
    "\"\"\""
   ]
  },
  {
   "cell_type": "code",
   "execution_count": 27,
   "id": "d51aa773",
   "metadata": {},
   "outputs": [],
   "source": [
    "# Helper function to extract a list of items from text using a regex pattern.\n",
    "def extract_list(pattern, text):\n",
    "    match = re.search(pattern, text, re.DOTALL)\n",
    "    return [line.strip() for line in match.group(1).split('\\n') if line.strip()] if match else []\n"
   ]
  },
  {
   "cell_type": "code",
   "execution_count": 28,
   "id": "8a7793f1",
   "metadata": {},
   "outputs": [],
   "source": [
    "# Extract pros from the review text using the helper function.\n",
    "pros = extract_list(r\"Pros:\\s*(.*?)(?:\\n\\n|$)\", review_text)\n"
   ]
  },
  {
   "cell_type": "code",
   "execution_count": 29,
   "id": "4440c325",
   "metadata": {},
   "outputs": [],
   "source": [
    "# Extract cons by searching for sentences after \"However,\".\n",
    "cons = []\n",
    "cons_match = re.search(r\"However,(.*?)(?:\\n\\n|$)\", review_text, re.DOTALL)\n",
    "if cons_match:\n",
    "    cons = [sent.strip() for sent in cons_match.group(1).split('.') if sent.strip()]\n"
   ]
  },
  {
   "cell_type": "code",
   "execution_count": 30,
   "id": "975ae509",
   "metadata": {},
   "outputs": [],
   "source": [
    "# Extract reviewer name if present.\n",
    "name_match = re.search(r\"Review by ([\\w\\s]+)\", review_text)\n",
    "name = name_match.group(1).strip() if name_match else None\n"
   ]
  },
  {
   "cell_type": "code",
   "execution_count": 31,
   "id": "79b8a7b2",
   "metadata": {},
   "outputs": [],
   "source": [
    "# Identify key themes by checking for keywords in the review text.\n",
    "themes = [kw for kw in [\"camera\", \"battery\", \"processor\", \"S-Pen\", \"price\", \"bloatware\", \"One UI\"]\n",
    "          if kw.lower() in review_text.lower()]\n"
   ]
  },
  {
   "cell_type": "code",
   "execution_count": 32,
   "id": "0c637402",
   "metadata": {},
   "outputs": [],
   "source": [
    "# Create a summary from the first two lines of the review.\n",
    "summary = \" \".join(review_text.strip().split('\\n')[0:2])\n"
   ]
  },
  {
   "cell_type": "code",
   "execution_count": 33,
   "id": "3159850c",
   "metadata": {},
   "outputs": [],
   "source": [
    "# Tokenize the review text and run it through the BERT model to get sentiment.\n",
    "inputs = tokenizer(review_text, return_tensors=\"pt\", truncation=True, padding=True)\n",
    "with torch.no_grad():\n",
    "    logits = model(**inputs).logits\n",
    "    sentiment = [\"neg\", \"pos\"][logits.argmax().item()]\n"
   ]
  },
  {
   "cell_type": "code",
   "execution_count": 34,
   "id": "e57a4aa7",
   "metadata": {},
   "outputs": [],
   "source": [
    "# Assemble the structured review dictionary and print the result.\n",
    "structured_review: Review = {\n",
    "    \"key_themes\": themes,\n",
    "    \"summary\": summary,\n",
    "    \"sentiment\": sentiment,\n",
    "    \"pros\": pros,\n",
    "    \"cons\": cons,\n",
    "    \"name\": name\n",
    "}\n"
   ]
  },
  {
   "cell_type": "code",
   "execution_count": 35,
   "id": "1fa49d5c",
   "metadata": {},
   "outputs": [
    {
     "name": "stdout",
     "output_type": "stream",
     "text": [
      "Structured Review Output:\n",
      "{'key_themes': ['camera', 'battery', 'processor', 'S-Pen', 'price', 'bloatware', 'One UI'], 'summary': 'I recently upgraded to the Samsung Galaxy S24 Ultra, and I must say, it’s an absolute powerhouse! The Snapdragon 8 Gen 3 processor makes everything lightning fast—whether I’m gaming, multitasking, or editing photos. The 5000mAh battery easily lasts a full day even with heavy use, and the 45W fast charging is a lifesaver. ', 'sentiment': 'neg', 'pros': ['Insanely powerful processor (great for gaming and productivity)', 'Stunning 200MP camera with incredible zoom capabilities', 'Long battery life with fast charging', 'S-Pen support is unique and useful'], 'cons': ['the weight and size make it a bit uncomfortable for one-handed use', 'Also, Samsung’s One UI still comes with bloatware—why do I need five different Samsung apps for things Google already provides? The $1,300 price tag is also a hard pill to swallow'], 'name': 'saifullah'}\n"
     ]
    }
   ],
   "source": [
    "print(\"Structured Review Output:\")\n",
    "print(structured_review)"
   ]
  }
 ],
 "metadata": {
  "kernelspec": {
   "display_name": "venv",
   "language": "python",
   "name": "python3"
  },
  "language_info": {
   "codemirror_mode": {
    "name": "ipython",
    "version": 3
   },
   "file_extension": ".py",
   "mimetype": "text/x-python",
   "name": "python",
   "nbconvert_exporter": "python",
   "pygments_lexer": "ipython3",
   "version": "3.13.0"
  }
 },
 "nbformat": 4,
 "nbformat_minor": 5
}
