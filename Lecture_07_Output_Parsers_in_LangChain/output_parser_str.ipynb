{
 "cells": [
  {
   "cell_type": "markdown",
   "id": "06959c0f",
   "metadata": {},
   "source": [
    "# **structured Output using prompt template**"
   ]
  },
  {
   "cell_type": "code",
   "execution_count": 55,
   "id": "d5faa4c8",
   "metadata": {},
   "outputs": [
    {
     "data": {
      "text/plain": [
       "True"
      ]
     },
     "execution_count": 55,
     "metadata": {},
     "output_type": "execute_result"
    }
   ],
   "source": [
    "# Import required modules for using HuggingFace LLMs, environment variables, and prompt templates.\n",
    "\n",
    "from langchain_huggingface import ChatHuggingFace, HuggingFaceEndpoint\n",
    "import os\n",
    "from dotenv import load_dotenv\n",
    "from langchain_core.prompts import PromptTemplate\n",
    "from langchain_core.output_parsers import StrOutputParser\n",
    "\n",
    "load_dotenv()\n"
   ]
  },
  {
   "cell_type": "code",
   "execution_count": 56,
   "id": "5636ce4b",
   "metadata": {},
   "outputs": [],
   "source": [
    "# Initialize the HuggingFaceEndpoint with the Mixtral model for text generation.\n",
    "\n",
    "llm = HuggingFaceEndpoint(\n",
    "    repo_id=\"meta-llama/Meta-Llama-3-8B-Instruct\",\n",
    "    task=\"text-generation\"\n",
    ")\n",
    "\n",
    "# Wrap the endpoint in a ChatHuggingFace object for chat-style interaction.\n",
    "model = ChatHuggingFace(llm=llm)\n"
   ]
  },
  {
   "cell_type": "code",
   "execution_count": 57,
   "id": "2c10e4d5",
   "metadata": {},
   "outputs": [],
   "source": [
    "# Define the first prompt template for generating a detailed report on a given topic.\n",
    "# 1st prompt\n",
    "template1 = PromptTemplate(\n",
    "    template='write a detailed report on the topic \"{topic}\"',\n",
    "    input_variables=[\"topic\"]\n",
    ")\n",
    "\n",
    "# 2nd prompt\n",
    "\n",
    "# Define the second prompt template for summarizing a given text in 5 lines.\n",
    "template2 = PromptTemplate(\n",
    "    template='write a 5 line summary on the following text. /n {text}',\n",
    "    input_variables=[\"text\"]\n",
    "\n",
    ")\n"
   ]
  },
  {
   "cell_type": "code",
   "execution_count": null,
   "id": "ef466a7a",
   "metadata": {},
   "outputs": [],
   "source": [
    "# Use the first prompt template to create a prompt about \"Black Hole\".\n",
    "\n",
    "prompt1 = template1.invoke({\"topic\": \"Black Hole\"})\n",
    "\n",
    "\n",
    "# Generate a detailed report on \"Black Hole\" using the model.\n",
    "result = model.invoke(prompt1)\n",
    "\n",
    "# Use the second prompt template to create a summary prompt from the generated report.\n",
    "prompt2 = template2.invoke({\"text\": result.content})\n",
    "\n",
    "\n",
    "# Generate a 5-line summary of the report using the model.\n",
    "result = model.invoke(prompt2)\n",
    "\n",
    "# Print the summary content.\n",
    "print(result.content)"
   ]
  },
  {
   "cell_type": "markdown",
   "id": "b16654a1",
   "metadata": {},
   "source": [
    "# **Sturctured Output Using StrOutputparser**"
   ]
  },
  {
   "cell_type": "code",
   "execution_count": null,
   "id": "3799c5a9",
   "metadata": {},
   "outputs": [],
   "source": [
    "parser = StrOutputParser()\n",
    "\n",
    "chain = template1 | model | parser | template2 | model | parser"
   ]
  },
  {
   "cell_type": "code",
   "execution_count": null,
   "id": "055860f3",
   "metadata": {},
   "outputs": [],
   "source": [
    "result = chain.invoke({\"topic\": \"artificial intelligence\"})\n",
    "\n",
    "print(result)"
   ]
  }
 ],
 "metadata": {
  "kernelspec": {
   "display_name": "venv",
   "language": "python",
   "name": "python3"
  },
  "language_info": {
   "codemirror_mode": {
    "name": "ipython",
    "version": 3
   },
   "file_extension": ".py",
   "mimetype": "text/x-python",
   "name": "python",
   "nbconvert_exporter": "python",
   "pygments_lexer": "ipython3",
   "version": "3.13.0"
  }
 },
 "nbformat": 4,
 "nbformat_minor": 5
}
