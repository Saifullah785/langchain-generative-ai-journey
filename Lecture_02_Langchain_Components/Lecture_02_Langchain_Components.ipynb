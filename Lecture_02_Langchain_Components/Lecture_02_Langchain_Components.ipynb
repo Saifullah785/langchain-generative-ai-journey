{
  "nbformat": 4,
  "nbformat_minor": 0,
  "metadata": {
    "colab": {
      "provenance": [],
      "authorship_tag": "ABX9TyPrst/iMn32r0XPNsDW2M2D",
      "include_colab_link": true
    },
    "kernelspec": {
      "name": "python3",
      "display_name": "Python 3"
    },
    "language_info": {
      "name": "python"
    }
  },
  "cells": [
    {
      "cell_type": "markdown",
      "metadata": {
        "id": "view-in-github",
        "colab_type": "text"
      },
      "source": [
        "<a href=\"https://colab.research.google.com/github/Saifullah785/langchain-generative-ai-journey/blob/main/Lecture_02_Langchain_Components/Lecture_02_Langchain_Components.ipynb\" target=\"_parent\"><img src=\"https://colab.research.google.com/assets/colab-badge.svg\" alt=\"Open In Colab\"/></a>"
      ]
    },
    {
      "cell_type": "markdown",
      "source": [
        "# **📘 LangChain Core Components – Easy Practical Lecture with Examples**"
      ],
      "metadata": {
        "id": "cvl6RustwTxn"
      }
    },
    {
      "cell_type": "markdown",
      "source": [
        "# **🧱 1. LangChain Components Overview**\n",
        "\n",
        "LangChain is made up of building blocks like:\n",
        "\n",
        "📦 Models\n",
        "\n",
        "📝 Prompts\n",
        "\n",
        "🔗 Chains\n",
        "\n",
        "📚 Indexes\n",
        "\n",
        "🧠 Memory\n",
        "\n",
        "🕵️ Agents\n",
        "\n",
        "🧠 Think of building an AI app like training a personal assistant:\n",
        "\n",
        "You need a brain (model), instructions (prompt), memory, tools, and a plan"
      ],
      "metadata": {
        "id": "EqmE3ynowTvO"
      }
    },
    {
      "cell_type": "markdown",
      "source": [
        "# **🧠 2. Models – The Brain**\n",
        "\n",
        "**📌 Definition:**\n",
        "\n",
        "Models are the large language brains behind everything—like GPT-4, Claude, or Mistral.\n",
        "\n",
        "LangChain lets you connect to:\n",
        "\n",
        "OpenAI models (ChatOpenAI)\n",
        "\n",
        "Open-source models (like LLaMA, Mistral)\n",
        "\n",
        "Custom local models (via HuggingFace)\n",
        "\n",
        "**🧃 Real-Life Example:**\n",
        "\n",
        "Your assistant's brain:\n",
        "\n",
        "You choose how smart it is (GPT-4 vs GPT-3.5)\n",
        "\n",
        "You choose how fast/cheap it is (GPT-3.5 for daily work, GPT-4 for complex tasks)\n",
        "\n",
        "https://python.langchain.com/docs/integrations/chat/"
      ],
      "metadata": {
        "id": "ZoTn5BlwwTsg"
      }
    },
    {
      "cell_type": "markdown",
      "source": [
        "# **📝 3. Prompts – Giving Instructions**\n",
        "\n",
        "**📌 Definition:**\n",
        "\n",
        "A prompt is what you tell the model. It’s the instruction, question, or context.\n",
        "\n",
        "LangChain supports:\n",
        "\n",
        "Static prompts (fixed questions)\n",
        "\n",
        "Dynamic prompts (you fill in blanks using variables)\n",
        "\n",
        "Prompt templates\n",
        "\n",
        "**🧃 Real-Life Example:**\n",
        "\n",
        "Talking to your assistant:\n",
        "\n",
        "Static: “Translate this to French.”\n",
        "\n",
        "Dynamic: “Summarize this email: {{email_text}}”\n",
        "\n",
        "🔧 You don’t want to write the full prompt every time → you create templates."
      ],
      "metadata": {
        "id": "xKE66CqqwTqB"
      }
    },
    {
      "cell_type": "markdown",
      "source": [
        "# **🔗 4. Chains – Linking Steps**\n",
        "\n",
        "**📌 Definition:**\n",
        "\n",
        "Chains combine multiple steps using models, prompts, and tools.\n",
        "\n",
        "LangChain has:\n",
        "\n",
        "LLMChain (simple prompt + model)\n",
        "\n",
        "SequentialChain (output of one goes to the next)\n",
        "\n",
        "RetrievalQAChain (search docs then answer)\n",
        "\n",
        "**🧃 Real-Life Example:**\n",
        "\n",
        "Let’s say your assistant needs to:\n",
        "\n",
        "Read a file 📄\n",
        "\n",
        "Summarize it 📝\n",
        "\n",
        "Email the summary 📧\n",
        "\n",
        "That’s a chain of steps."
      ],
      "metadata": {
        "id": "VuQAeW0cwTnd"
      }
    },
    {
      "cell_type": "markdown",
      "source": [
        "# **📚 5. Indexes – Organizing Your Knowledge**\n",
        "\n",
        "**📌 Definition:**\n",
        "\n",
        "Indexes help the model search and retrieve information from your documents or databases.\n",
        "\n",
        "LangChain integrates with:\n",
        "\n",
        "Vector DBs (like FAISS, Pinecone)\n",
        "\n",
        "Text splitters (to chunk long docs)\n",
        "\n",
        "Embeddings (to turn text into searchable vectors)\n",
        "\n",
        "**🧃 Real-Life Example:**\n",
        "\n",
        "You give your assistant a library of books.\n",
        "\n",
        "You ask: “What did chapter 3 say about AI?”\n",
        "\n",
        "Your assistant searches the right part, then answers — this is indexing.\n"
      ],
      "metadata": {
        "id": "FR56-BtmwTk1"
      }
    },
    {
      "cell_type": "markdown",
      "source": [
        "# **🧠 6. Memory – Storing the Past**\n",
        "\n",
        "**📌 Definition:**\n",
        "\n",
        "Memory helps LangChain apps remember past conversations or data across steps.\n",
        "\n",
        "Types of memory:\n",
        "\n",
        "Chat message history\n",
        "\n",
        "Buffer memory (remembers N past steps)\n",
        "\n",
        "Vector memory (remembers facts via embeddings)\n",
        "\n",
        "**🧃 Real-Life Example:**\n",
        "\n",
        "Talking to an assistant:\n",
        "\n",
        "Without memory: You say your name 5 times.\n",
        "\n",
        "With memory: Assistant remembers your name, mood, and past requests.\n",
        "\n",
        "Useful for chatbots, tutors, and personalized apps."
      ],
      "metadata": {
        "id": "HGWLs8QCwTeR"
      }
    },
    {
      "cell_type": "markdown",
      "source": [
        "# **🕵️ 7. Agents – Smart Decision Makers**\n",
        "\n",
        "**📌 Definition:**\n",
        "\n",
        "An agent is a decision-maker. It uses a model to decide which tool to use next based on your input.\n",
        "\n",
        "LangChain agents can:\n",
        "\n",
        "Pick tools (search, calculator, API)\n",
        "\n",
        "Ask sub-questions\n",
        "\n",
        "Reason through steps\n",
        "\n",
        "**🧃 Real-Life Example:**\n",
        "\n",
        "You say: “Book me a flight to Mumbai under ₹10k.”\n",
        "\n",
        "Your smart assistant (agent):\n",
        "\n",
        "Searches flights 🧭\n",
        "\n",
        "Filters by budget 🧮\n",
        "\n",
        "Chooses the best site 📲\n",
        "\n",
        "Books it 🧾\n",
        "\n",
        "Agent = decision + action + reasoning"
      ],
      "metadata": {
        "id": "eTbZJnxHwTaX"
      }
    }
  ]
}