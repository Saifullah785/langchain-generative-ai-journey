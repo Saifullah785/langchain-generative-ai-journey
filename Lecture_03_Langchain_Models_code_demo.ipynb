{
  "nbformat": 4,
  "nbformat_minor": 0,
  "metadata": {
    "colab": {
      "provenance": [],
      "authorship_tag": "ABX9TyM66XjNrbye2EvrZTFlUfM2",
      "include_colab_link": true
    },
    "kernelspec": {
      "name": "python3",
      "display_name": "Python 3"
    },
    "language_info": {
      "name": "python"
    }
  },
  "cells": [
    {
      "cell_type": "markdown",
      "metadata": {
        "id": "view-in-github",
        "colab_type": "text"
      },
      "source": [
        "<a href=\"https://colab.research.google.com/github/Saifullah785/langchain-generative-ai-journey/blob/main/Lecture_03_Langchain_Models_code_demo.ipynb\" target=\"_parent\"><img src=\"https://colab.research.google.com/assets/colab-badge.svg\" alt=\"Open In Colab\"/></a>"
      ]
    },
    {
      "cell_type": "markdown",
      "source": [
        "# **LangChain Models | Code Demo**"
      ],
      "metadata": {
        "id": "W28ZWuZ1gOCV"
      }
    },
    {
      "cell_type": "markdown",
      "source": [
        "#**Install Libraries:**\n",
        "\n",
        "This code first installs the necessary libraries:\n",
        "\n",
        "langchain-huggingface, huggingface_hub, transformers, accelerate, bitsandbytes, and langchain.\n",
        "\n",
        " Version numbers are added for clarity and reproducibility."
      ],
      "metadata": {
        "id": "oGkXyCCiUJSe"
      }
    },
    {
      "cell_type": "code",
      "source": [
        "# ## Libraries Required\n",
        "# !pip install langchain-huggingface==0.0.1 # Ensure a specific version if needed\n",
        "# ## For API Calls\n",
        "# !pip install huggingface_hub==0.23.0\n",
        "# !pip install transformers==4.40.1\n",
        "# !pip install accelerate==0.30.0\n",
        "# !pip install  bitsandbytes==0.43.1\n",
        "# !pip install langchain==0.2.0"
      ],
      "metadata": {
        "id": "f0-GyMc2Qa4m"
      },
      "execution_count": 10,
      "outputs": []
    },
    {
      "cell_type": "markdown",
      "source": [
        "# **Get API Key:**\n",
        "\n",
        "It retrieves your Hugging Face API token from Google Colab's user data secrets.\n",
        "\n",
        "It's important to store your API key securely using Colab secrets."
      ],
      "metadata": {
        "id": "VvVj7EVUUWkw"
      }
    },
    {
      "cell_type": "code",
      "source": [
        "# Environment secret keys\n",
        "\n",
        "from google.colab import userdata\n",
        "import os"
      ],
      "metadata": {
        "id": "6LlUngcwQhuF"
      },
      "execution_count": 11,
      "outputs": []
    },
    {
      "cell_type": "code",
      "source": [
        "# Get your Hugging Face API token from Colab secrets\n",
        "\n",
        "sec_key = userdata.get('HUGGINGFACEHUB_API_TOKEN')\n",
        "\n",
        "print(\"API Key retrieved (first few characters):\", sec_key[:5] + \"...\") # Print partially for confirmation"
      ],
      "metadata": {
        "colab": {
          "base_uri": "https://localhost:8080/"
        },
        "id": "slX6MkZJQotp",
        "outputId": "94aaa026-a40b-4104-d4cc-56cb00e9b808"
      },
      "execution_count": 12,
      "outputs": [
        {
          "output_type": "stream",
          "name": "stdout",
          "text": [
            "API Key retrieved (first few characters): hf_pq...\n"
          ]
        }
      ]
    },
    {
      "cell_type": "markdown",
      "source": [
        "# **Set Environment Variable:**\n",
        "\n",
        "The API token is set as an environment variable HUGGINGFACEHUB_API_TOKEN.\n",
        "\n",
        "This is how the HuggingFaceEndpoint class will authenticate with the Hugging Face API."
      ],
      "metadata": {
        "id": "IRTPo0ifUu1E"
      }
    },
    {
      "cell_type": "code",
      "source": [
        "# Set the environment variable for the API token\n",
        "\n",
        "os.environ['HUGGINGFACEHUB_API_TOKEN'] = sec_key"
      ],
      "metadata": {
        "id": "IMmrOoW-QqYr"
      },
      "execution_count": 13,
      "outputs": []
    },
    {
      "cell_type": "markdown",
      "source": [
        "# **Import HuggingFaceEndpoint:**\n",
        "\n",
        " The HuggingFaceEndpoint class is imported from langchain_huggingface."
      ],
      "metadata": {
        "id": "gUcNIz12U105"
      }
    },
    {
      "cell_type": "code",
      "source": [
        "# Import the HuggingFaceEndpoint class\n",
        "\n",
        "from langchain_huggingface import HuggingFaceEndpoint"
      ],
      "metadata": {
        "id": "TnJMhOTlQsZ4"
      },
      "execution_count": 14,
      "outputs": []
    },
    {
      "cell_type": "markdown",
      "source": [
        "#**Define Model:**\n",
        "\n",
        "The repo_id variable is set to the specific model you want to use, which is \"mistralai/Mistral-7-B-Instruct-v0.3\"."
      ],
      "metadata": {
        "id": "mI8LWqmLU9Mh"
      }
    },
    {
      "cell_type": "code",
      "source": [
        "# Define the repository ID for the model\n",
        "\n",
        "repo_id = \"mistralai/Mistral-7B-Instruct-v0.3\"\n",
        "\n",
        "\n"
      ],
      "metadata": {
        "id": "T7goFBOGQwUe"
      },
      "execution_count": 18,
      "outputs": []
    },
    {
      "cell_type": "markdown",
      "source": [
        "#**Initialize Model:**\n",
        "\n",
        "An instance of HuggingFaceEndpoint is created with the specified repo_id, max_new_tokens, and temperature.\n",
        "\n",
        "max_new_tokens controls the maximum length of the generated response, and temperature affects the randomness of the output."
      ],
      "metadata": {
        "id": "fmbi64igVNGy"
      }
    },
    {
      "cell_type": "code",
      "source": [
        "# Initialize the HuggingFaceEndpoint model\n",
        "\n",
        "llm = HuggingFaceEndpoint(repo_id=repo_id, max_new_tokens=128, temperature=0.7)"
      ],
      "metadata": {
        "colab": {
          "base_uri": "https://localhost:8080/"
        },
        "id": "uhe25R2NVMWB",
        "outputId": "9129c9d4-0e8c-4926-8319-0969a1cf6e71"
      },
      "execution_count": 19,
      "outputs": [
        {
          "output_type": "stream",
          "name": "stdout",
          "text": [
            "The token has not been saved to the git credentials helper. Pass `add_to_git_credential=True` in this function directly or `--add-to-git-credential` if using via `huggingface-cli` if you want to set the git credential as well.\n",
            "Token is valid (permission: read).\n",
            "Your token has been saved to /root/.cache/huggingface/token\n",
            "Login successful\n"
          ]
        }
      ]
    },
    {
      "cell_type": "markdown",
      "source": [
        "#**Invoke Model:**\n",
        "\n",
        "The llm.invoke() method is used to send a prompt (\"what is machine learning.\") to the model.\n",
        "\n",
        "#**Print Response:**\n",
        "\n",
        "The generated response from the model is printed."
      ],
      "metadata": {
        "id": "vkBCHEJlVZ-v"
      }
    },
    {
      "cell_type": "code",
      "source": [
        "\n",
        "# Use the model to invoke a prompt\n",
        "\n",
        "response = llm.invoke(\"who is data scientist.\")\n",
        "\n",
        "# Print the response from the model\n",
        "\n",
        "print(response)"
      ],
      "metadata": {
        "colab": {
          "base_uri": "https://localhost:8080/"
        },
        "id": "UsFZFLEQQWnS",
        "outputId": "04f30b2a-a8fa-41ad-b868-e2245f75a9ee"
      },
      "execution_count": 20,
      "outputs": [
        {
          "output_type": "stream",
          "name": "stdout",
          "text": [
            " A data scientist is a professional who uses scientific methods, processes, algorithms, and systems to extract knowledge and insights from structured and unstructured data. They work with large amounts of data to answer complex questions, solve problems, and make decisions for organizations. Data scientists are skilled in various areas such as statistics, machine learning, data mining, and data visualization, and they often work with tools like R, Python, SQL, and SAS. They may work in various industries, including technology, finance, healthcare, and government. Data scientists are in high demand due to the increasing importance of data in decision-making and the growing amount\n"
          ]
        }
      ]
    },
    {
      "cell_type": "markdown",
      "source": [
        "## HuggingFaceEndpoint\n",
        "## How to Access HuggingFace Models with API\n",
        "There are also two ways to use this class. You can specify the model with the repo_id parameter. Those endpoints use the serverless API, which is particularly beneficial to people using pro accounts or enterprise hub. Still, regular users can already have access to a fair amount of request by connecting with their HF token in the environment where they are executing the code.\n"
      ],
      "metadata": {
        "id": "hbgZgL-hEBm5"
      }
    }
  ]
}