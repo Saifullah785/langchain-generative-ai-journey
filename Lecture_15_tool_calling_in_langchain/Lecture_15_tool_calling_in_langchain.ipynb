{
  "nbformat": 4,
  "nbformat_minor": 0,
  "metadata": {
    "colab": {
      "provenance": [],
      "authorship_tag": "ABX9TyNz9Fu0ACAsya6SoYOCFIum",
      "include_colab_link": true
    },
    "kernelspec": {
      "name": "python3",
      "display_name": "Python 3"
    },
    "language_info": {
      "name": "python"
    }
  },
  "cells": [
    {
      "cell_type": "markdown",
      "metadata": {
        "id": "view-in-github",
        "colab_type": "text"
      },
      "source": [
        "<a href=\"https://colab.research.google.com/github/Saifullah785/langchain-generative-ai-journey/blob/main/Lecture_15_tool_calling_in_langchain/Lecture_15_tool_calling_in_langchain.ipynb\" target=\"_parent\"><img src=\"https://colab.research.google.com/assets/colab-badge.svg\" alt=\"Open In Colab\"/></a>"
      ]
    },
    {
      "cell_type": "code",
      "source": [
        "# Install necessary libraries for LangChain, HuggingFace integration, and requests.\n",
        "# !pip install -q langchain_huggingface langchain-core requests"
      ],
      "metadata": {
        "id": "B4JfQkbMIvjF"
      },
      "execution_count": 1,
      "outputs": []
    },
    {
      "cell_type": "code",
      "execution_count": 2,
      "metadata": {
        "id": "02fqYMzCHfat"
      },
      "outputs": [],
      "source": [
        "# Import necessary classes and functions from LangChain and requests library.\n",
        "from langchain_huggingface import ChatHuggingFace, HuggingFaceEndpoint\n",
        "from langchain_core.tools import tool\n",
        "from langchain_core.messages import HumanMessage\n",
        "import requests"
      ]
    },
    {
      "cell_type": "code",
      "source": [
        "# Import userdata from google.colab to access secrets.\n",
        "from google.colab import userdata\n",
        "\n",
        "# Get the Hugging Face API key from Colab secrets, named \"hf_token\".\n",
        "hf_api_key = userdata.get(\"hf_token\")"
      ],
      "metadata": {
        "id": "apc8AbESJCvJ"
      },
      "execution_count": 4,
      "outputs": []
    },
    {
      "cell_type": "code",
      "source": [
        "# Initialize the HuggingFaceEndpoint with the Llama-3.1-8B-Instruct model for text generation.\n",
        "llm = HuggingFaceEndpoint(\n",
        "    # repo_id=\"meta-llama/Meta-Llama-3-8B-Instruct\", # Example of a commented-out model\n",
        "    repo_id='meta-llama/Llama-3.1-8B-Instruct',\n",
        ")\n",
        "\n",
        "# Wrap the endpoint in a ChatHuggingFace object for chat-style interaction.\n",
        "model = ChatHuggingFace(llm=llm)"
      ],
      "metadata": {
        "id": "EmBn_7IEI3qK"
      },
      "execution_count": 18,
      "outputs": []
    },
    {
      "cell_type": "code",
      "source": [
        "# Define a tool function using the @tool decorator.\n",
        "# This function takes two integers, a and b, and returns their product.\n",
        "@tool\n",
        "def multiply(a: int, b: int) -> int:\n",
        "  \"\"\"Given 2 numbers a and b this tool returns their product\"\"\"\n",
        "  return a * b"
      ],
      "metadata": {
        "id": "kb9clY3AJ0wy"
      },
      "execution_count": 20,
      "outputs": []
    },
    {
      "cell_type": "code",
      "source": [
        "# Invoke the multiply tool with inputs a=2 and b=3 and print the result.\n",
        "print(multiply.invoke({\"a\": 2, \"b\": 3}))"
      ],
      "metadata": {
        "colab": {
          "base_uri": "https://localhost:8080/"
        },
        "id": "V57UONsvKGha",
        "outputId": "c58ced32-3f2c-4605-b544-eb68fcd814d6"
      },
      "execution_count": 21,
      "outputs": [
        {
          "output_type": "stream",
          "name": "stdout",
          "text": [
            "6\n"
          ]
        }
      ]
    },
    {
      "cell_type": "code",
      "source": [
        "# Access and display the name of the multiply tool.\n",
        "multiply.name"
      ],
      "metadata": {
        "colab": {
          "base_uri": "https://localhost:8080/",
          "height": 36
        },
        "id": "6K4z7qGKKLor",
        "outputId": "10b2282b-b39a-41c4-f961-dfc67a5cf703"
      },
      "execution_count": 22,
      "outputs": [
        {
          "output_type": "execute_result",
          "data": {
            "text/plain": [
              "'multiply'"
            ],
            "application/vnd.google.colaboratory.intrinsic+json": {
              "type": "string"
            }
          },
          "metadata": {},
          "execution_count": 22
        }
      ]
    },
    {
      "cell_type": "code",
      "source": [
        "# Access and display the description of the multiply tool.\n",
        "multiply.description"
      ],
      "metadata": {
        "colab": {
          "base_uri": "https://localhost:8080/",
          "height": 36
        },
        "id": "3ze5h351KOW6",
        "outputId": "3c15ed39-3139-4e9e-ba4f-0dfd0b1fb132"
      },
      "execution_count": 23,
      "outputs": [
        {
          "output_type": "execute_result",
          "data": {
            "text/plain": [
              "'Given 2 numbers a and b this tool returns their product'"
            ],
            "application/vnd.google.colaboratory.intrinsic+json": {
              "type": "string"
            }
          },
          "metadata": {},
          "execution_count": 23
        }
      ]
    },
    {
      "cell_type": "code",
      "source": [
        "# Access and display the arguments expected by the multiply tool.\n",
        "multiply.args"
      ],
      "metadata": {
        "colab": {
          "base_uri": "https://localhost:8080/"
        },
        "id": "azJpTrdxKSBa",
        "outputId": "de389ff0-59c3-4091-a32b-b99b6e562a2e"
      },
      "execution_count": 24,
      "outputs": [
        {
          "output_type": "execute_result",
          "data": {
            "text/plain": [
              "{'a': {'title': 'A', 'type': 'integer'},\n",
              " 'b': {'title': 'B', 'type': 'integer'}}"
            ]
          },
          "metadata": {},
          "execution_count": 24
        }
      ]
    },
    {
      "cell_type": "code",
      "source": [
        "# Invoke the chat model with the input 'hi' and display the response.\n",
        "model.invoke('hi')"
      ],
      "metadata": {
        "colab": {
          "base_uri": "https://localhost:8080/"
        },
        "id": "b_7fSZpkKjv7",
        "outputId": "ddb163df-0410-4fb0-8538-0a62f6ddfade"
      },
      "execution_count": 25,
      "outputs": [
        {
          "output_type": "execute_result",
          "data": {
            "text/plain": [
              "AIMessage(content=\"It's nice to meet you. Is there something I can help you with or would you like to chat?\", additional_kwargs={}, response_metadata={'token_usage': {'completion_tokens': 23, 'prompt_tokens': 36, 'total_tokens': 59}, 'model_name': 'meta-llama/Llama-3.1-8B-Instruct', 'system_fingerprint': '', 'finish_reason': 'stop', 'logprobs': None}, id='run--b65e8c94-f071-4cf0-a43f-3dfab0b22d08-0', usage_metadata={'input_tokens': 36, 'output_tokens': 23, 'total_tokens': 59})"
            ]
          },
          "metadata": {},
          "execution_count": 25
        }
      ]
    },
    {
      "cell_type": "code",
      "source": [
        "# Bind the multiply tool to the chat model, creating a new model instance that can use the tool.\n",
        "llm_with_tools = model.bind_tools([multiply])"
      ],
      "metadata": {
        "id": "DypNamepKu3U"
      },
      "execution_count": 26,
      "outputs": []
    },
    {
      "cell_type": "code",
      "source": [
        "# Example of how to invoke the model with tools (currently commented out).\n",
        "# llm_with_tools.invoke('hi how are you')"
      ],
      "metadata": {
        "id": "JB8Hozu9KU4y"
      },
      "execution_count": 28,
      "outputs": []
    }
  ]
}