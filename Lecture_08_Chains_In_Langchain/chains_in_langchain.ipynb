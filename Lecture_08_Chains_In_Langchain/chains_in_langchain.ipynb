{
 "cells": [
  {
   "cell_type": "markdown",
   "id": "a65d750d",
   "metadata": {},
   "source": [
    "# **Simple Chain**"
   ]
  },
  {
   "cell_type": "code",
   "execution_count": null,
   "id": "1edce715",
   "metadata": {},
   "outputs": [
    {
     "data": {
      "text/plain": [
       "True"
      ]
     },
     "execution_count": 1,
     "metadata": {},
     "output_type": "execute_result"
    }
   ],
   "source": [
    "# Import required modules for using HuggingFace LLMs, environment variables, prompt templates, and output parsers.\n",
    "from langchain_huggingface import ChatHuggingFace, HuggingFaceEndpoint\n",
    "from dotenv import load_dotenv\n",
    "from langchain_core.prompts import PromptTemplate\n",
    "from langchain_core.output_parsers import StrOutputParser\n",
    "import os\n",
    "# Load environment variables (such as API keys) from a .env file.\n",
    "load_dotenv()"
   ]
  },
  {
   "cell_type": "code",
   "execution_count": null,
   "id": "30968c43",
   "metadata": {},
   "outputs": [
    {
     "name": "stderr",
     "output_type": "stream",
     "text": [
      "d:\\practicing_langchain_models\\venv\\Lib\\site-packages\\tqdm\\auto.py:21: TqdmWarning: IProgress not found. Please update jupyter and ipywidgets. See https://ipywidgets.readthedocs.io/en/stable/user_install.html\n",
      "  from .autonotebook import tqdm as notebook_tqdm\n"
     ]
    }
   ],
   "source": [
    "# Initialize the HuggingFaceEndpoint with the Meta-Llama model for text generation.\n",
    "\n",
    "llm = HuggingFaceEndpoint(\n",
    "    repo_id = \"meta-llama/Meta-Llama-3-8B-Instruct\",\n",
    "    task = 'text-generation'\n",
    ")\n",
    "\n",
    "# Wrap the endpoint in a ChatHuggingFace object for chat-style interaction.\n",
    "model = ChatHuggingFace(llm=llm)"
   ]
  },
  {
   "cell_type": "code",
   "execution_count": null,
   "id": "c8d0ad73",
   "metadata": {},
   "outputs": [],
   "source": [
    "# Create a prompt template to generate 5 interesting facts about a given topic.\n",
    "\n",
    "prompt = PromptTemplate(\n",
    "    template=\"Generate 5 interesting facts about {topic}\",\n",
    "    input_variables=[\"topic\"],\n",
    "\n",
    ")"
   ]
  },
  {
   "cell_type": "code",
   "execution_count": null,
   "id": "52ec27b2",
   "metadata": {},
   "outputs": [],
   "source": [
    "# Create a string output parser to extract plain text from the model's response.\n",
    "\n",
    "parser = StrOutputParser()"
   ]
  },
  {
   "cell_type": "code",
   "execution_count": null,
   "id": "dda3e206",
   "metadata": {},
   "outputs": [],
   "source": [
    "# Build a chain that sequentially applies the prompt, model, and parser.\n",
    "\n",
    "chain = prompt | model | parser"
   ]
  },
  {
   "cell_type": "code",
   "execution_count": null,
   "id": "eab81f33",
   "metadata": {},
   "outputs": [
    {
     "name": "stdout",
     "output_type": "stream",
     "text": [
      "Here are 5 interesting facts about the Python programming language:\n",
      "\n",
      "**1. Python was named after a British comedy group**\n",
      "The Python programming language was named after the British comedy group Monty Python's Flying Circus, which was known for its surreal and often absurd sense of humor. Guido van Rossum, the creator of Python, was a fan of the group and chose the name as a nod to their creative and unconventional approach to comedy.\n",
      "\n",
      "**2. Python was created in just 12 weeks**\n",
      "Guido van Rossum started working on Python in December 1989 and released the first version, Python 0.9.1, in February 1991. He spent only 12 weeks developing the language, which is incredibly fast considering the complexity of the task. Van Rossum has said that he wanted to create a language that was easy to learn and use, and he achieved this goal with remarkable speed.\n",
      "\n",
      "**3. Python is a dynamically-typed language**\n",
      "Unlike languages like Java and C++, which are statically-typed, Python is dynamically-typed. This means that Python doesn't check the data type of a variable until runtime, which makes it easier to write code and reduces the need for explicit type conversions. This flexibility is one of the reasons why Python is so popular among beginners and experienced programmers alike.\n",
      "\n",
      "**4. Python is used by many popular websites and applications**\n",
      "Python is used by many well-known companies and organizations, including Google, Facebook, Instagram, Dropbox, and Reddit. It's also used in many scientific and research applications, such as NASA's Jet Propulsion Laboratory and the European Organization for Nuclear Research (CERN). Python's popularity is due in part to its ease of use, flexibility, and extensive libraries and frameworks.\n",
      "\n",
      "**5. Python has a unique syntax**\n",
      "Python's syntax is known for its simplicity and readability. It uses indentation to denote block-level structure, which makes it easy to write and read code. Python also uses a syntax that's similar to natural language, with concise and expressive statements that make it easy to write code that's easy to understand. For example, Python's `print()` function is used to print output to the screen, and it can be used with a simple statement like `print(\"Hello, world!\")`.\n",
      "\n",
      "I hope you find these facts interesting! Let me know if you have any other questions.\n"
     ]
    }
   ],
   "source": [
    "# Invoke the chain with the topic \"Python programming language\" and print the generated facts.\n",
    "\n",
    "result = chain.invoke({\"topic\": \"Python programming language\"})\n",
    "\n",
    "print(result)"
   ]
  },
  {
   "cell_type": "code",
   "execution_count": null,
   "id": "3bd60bb9",
   "metadata": {},
   "outputs": [
    {
     "name": "stdout",
     "output_type": "stream",
     "text": [
      "Collecting grandalf\n",
      "  Downloading grandalf-0.8-py3-none-any.whl.metadata (1.7 kB)\n",
      "Requirement already satisfied: pyparsing in d:\\practicing_langchain_models\\venv\\lib\\site-packages (from grandalf) (3.2.3)\n",
      "Downloading grandalf-0.8-py3-none-any.whl (41 kB)\n",
      "Installing collected packages: grandalf\n",
      "Successfully installed grandalf-0.8\n"
     ]
    }
   ],
   "source": [
    "# Install the grandalf package, which is used for graph visualization of chains.\n",
    "#!pip install grandalf"
   ]
  },
  {
   "cell_type": "code",
   "execution_count": null,
   "id": "6f04a11e",
   "metadata": {},
   "outputs": [
    {
     "name": "stdout",
     "output_type": "stream",
     "text": [
      "     +-------------+       \n",
      "     | PromptInput |       \n",
      "     +-------------+       \n",
      "            *              \n",
      "            *              \n",
      "            *              \n",
      "    +----------------+     \n",
      "    | PromptTemplate |     \n",
      "    +----------------+     \n",
      "            *              \n",
      "            *              \n",
      "            *              \n",
      "   +-----------------+     \n",
      "   | ChatHuggingFace |     \n",
      "   +-----------------+     \n",
      "            *              \n",
      "            *              \n",
      "            *              \n",
      "   +-----------------+     \n",
      "   | StrOutputParser |     \n",
      "   +-----------------+     \n",
      "            *              \n",
      "            *              \n",
      "            *              \n",
      "+-----------------------+  \n",
      "| StrOutputParserOutput |  \n",
      "+-----------------------+  \n"
     ]
    }
   ],
   "source": [
    "# Visualize the structure of the simple chain as an ASCII graph.\n",
    "\n",
    "chain.get_graph().print_ascii()"
   ]
  },
  {
   "cell_type": "markdown",
   "id": "d02c57c4",
   "metadata": {},
   "source": [
    "# **Sequential Chain**"
   ]
  },
  {
   "cell_type": "code",
   "execution_count": null,
   "id": "8cd15c8b",
   "metadata": {},
   "outputs": [
    {
     "data": {
      "text/plain": [
       "True"
      ]
     },
     "execution_count": 10,
     "metadata": {},
     "output_type": "execute_result"
    }
   ],
   "source": [
    "# Import required modules for sequential chain construction and environment setup.\n",
    "\n",
    "from langchain_huggingface import HuggingFaceEndpoint, ChatHuggingFace\n",
    "from langchain_core.prompts import PromptTemplate\n",
    "from langchain_core.output_parsers import StrOutputParser\n",
    "from dotenv import load_dotenv\n",
    "\n",
    "# Load environment variables (such as API keys) from a .env file.\n",
    "\n",
    "load_dotenv()"
   ]
  },
  {
   "cell_type": "code",
   "execution_count": null,
   "id": "de6bc19a",
   "metadata": {},
   "outputs": [],
   "source": [
    "# Initialize the HuggingFaceEndpoint with the Meta-Llama model for text generation.\n",
    "\n",
    "llm = HuggingFaceEndpoint(\n",
    "    repo_id = \"meta-llama/Meta-Llama-3-8B-Instruct\",\n",
    "    task = 'text-generation'\n",
    ")\n",
    "\n",
    "# Wrap the endpoint in a ChatHuggingFace object for chat-style interaction.\n",
    "model = ChatHuggingFace(llm=llm)"
   ]
  },
  {
   "cell_type": "code",
   "execution_count": null,
   "id": "301da037",
   "metadata": {},
   "outputs": [],
   "source": [
    "# Create the first prompt template to generate a detailed report on a given topic.\n",
    "\n",
    "prompt1 = PromptTemplate(\n",
    "    template=\"Generate a detailed report on {topic}\",\n",
    "    input_variables=[\"topic\"],\n",
    ")\n"
   ]
  },
  {
   "cell_type": "code",
   "execution_count": null,
   "id": "ec1511c7",
   "metadata": {},
   "outputs": [],
   "source": [
    "# Create the second prompt template to generate a 5-point summary from a given text.\n",
    "\n",
    "prompt2 = PromptTemplate(\n",
    "    template=\"Generate a 5 pointer summary from the following text \\n {text}\",\n",
    "    input_variables=[\"text\"],\n",
    ")"
   ]
  },
  {
   "cell_type": "code",
   "execution_count": null,
   "id": "cde89741",
   "metadata": {},
   "outputs": [],
   "source": [
    "# Create a string output parser to extract plain text from the model's response.\n",
    "\n",
    "parser = StrOutputParser()"
   ]
  },
  {
   "cell_type": "code",
   "execution_count": null,
   "id": "542fb604",
   "metadata": {},
   "outputs": [],
   "source": [
    "# Build a sequential chain that generates a report, then summarizes it in 5 points.\n",
    "\n",
    "chain = prompt1 | model | parser | prompt2 | model | parser"
   ]
  },
  {
   "cell_type": "code",
   "execution_count": null,
   "id": "5995ce62",
   "metadata": {},
   "outputs": [
    {
     "name": "stdout",
     "output_type": "stream",
     "text": [
      "Here is a 5-point summary of the report:\n",
      "\n",
      "**Point 1: Importance of SQL in Data Science**\n",
      "SQL is a fundamental tool in data science, enabling data scientists to manipulate, analyze, and integrate large datasets. Its importance lies in its ability to extract insights from data, inform business decisions, and gain a competitive advantage.\n",
      "\n",
      "**Point 2: Applications of SQL in Data Science**\n",
      "SQL is used in various applications, including business intelligence, data mining, data warehousing, machine learning, and data science tools. Its applications are diverse and essential for data scientists to work efficiently and accurately.\n",
      "\n",
      "**Point 3: Benefits of SQL in Data Science**\n",
      "The benefits of using SQL in data science include improved efficiency, increased accuracy, enhanced decision making, cost savings, and a competitive advantage. SQL enables data scientists to work more efficiently, reducing the time and effort required to analyze data.\n",
      "\n",
      "**Point 4: Recommendations for Using SQL in Data Science**\n",
      "To maximize the benefits of SQL in data science, organizations should invest in SQL training, use SQL in data science tools, integrate SQL with other tools, emphasize SQL in data science education, and continuously monitor and improve SQL skills.\n",
      "\n",
      "**Point 5: Conclusion**\n",
      "In conclusion, SQL is a critical tool in data science, and its importance will only continue to grow as data continues to grow exponentially. By understanding the importance, applications, and benefits of SQL in data science, organizations can gain a competitive advantage and make data-driven decisions.\n"
     ]
    }
   ],
   "source": [
    "# Invoke the sequential chain with the topic \"importance of SQL in data science\" and print the summary.\n",
    "\n",
    "result = chain.invoke({\"topic\": \"importance of SQL in data science\",})\n",
    "\n",
    "print(result)"
   ]
  },
  {
   "cell_type": "code",
   "execution_count": null,
   "id": "a275ea5b",
   "metadata": {},
   "outputs": [
    {
     "name": "stdout",
     "output_type": "stream",
     "text": [
      "     +-------------+       \n",
      "     | PromptInput |       \n",
      "     +-------------+       \n",
      "            *              \n",
      "            *              \n",
      "            *              \n",
      "    +----------------+     \n",
      "    | PromptTemplate |     \n",
      "    +----------------+     \n",
      "            *              \n",
      "            *              \n",
      "            *              \n",
      "   +-----------------+     \n",
      "   | ChatHuggingFace |     \n",
      "   +-----------------+     \n",
      "            *              \n",
      "            *              \n",
      "            *              \n",
      "   +-----------------+     \n",
      "   | StrOutputParser |     \n",
      "   +-----------------+     \n",
      "            *              \n",
      "            *              \n",
      "            *              \n",
      "+-----------------------+  \n",
      "| StrOutputParserOutput |  \n",
      "+-----------------------+  \n",
      "            *              \n",
      "            *              \n",
      "            *              \n",
      "    +----------------+     \n",
      "    | PromptTemplate |     \n",
      "    +----------------+     \n",
      "            *              \n",
      "            *              \n",
      "            *              \n",
      "   +-----------------+     \n",
      "   | ChatHuggingFace |     \n",
      "   +-----------------+     \n",
      "            *              \n",
      "            *              \n",
      "            *              \n",
      "   +-----------------+     \n",
      "   | StrOutputParser |     \n",
      "   +-----------------+     \n",
      "            *              \n",
      "            *              \n",
      "            *              \n",
      "+-----------------------+  \n",
      "| StrOutputParserOutput |  \n",
      "+-----------------------+  \n"
     ]
    }
   ],
   "source": [
    "# Visualize the structure of the sequential chain as an ASCII graph.\n",
    "\n",
    "chain.get_graph().print_ascii()"
   ]
  },
  {
   "cell_type": "markdown",
   "id": "e07ef6ce",
   "metadata": {},
   "source": [
    "# **Parallel Chain RunnableParallel**"
   ]
  },
  {
   "cell_type": "code",
   "execution_count": null,
   "id": "181bc9d1",
   "metadata": {},
   "outputs": [
    {
     "data": {
      "text/plain": [
       "True"
      ]
     },
     "execution_count": 1,
     "metadata": {},
     "output_type": "execute_result"
    }
   ],
   "source": [
    "# Import required modules for parallel chain construction, prompt templates, and output parsing.\n",
    "\n",
    "from langchain_huggingface import HuggingFaceEndpoint, ChatHuggingFace\n",
    "from langchain_core.prompts import PromptTemplate\n",
    "from langchain_core.output_parsers import StrOutputParser\n",
    "from langchain.schema.runnable import RunnableParallel\n",
    "from dotenv import load_dotenv\n",
    "\n",
    "# Load environment variables (such as API keys) from a .env file.\n",
    "\n",
    "load_dotenv()"
   ]
  },
  {
   "cell_type": "code",
   "execution_count": null,
   "id": "620e765d",
   "metadata": {},
   "outputs": [
    {
     "name": "stderr",
     "output_type": "stream",
     "text": [
      "d:\\practicing_langchain_models\\venv\\Lib\\site-packages\\tqdm\\auto.py:21: TqdmWarning: IProgress not found. Please update jupyter and ipywidgets. See https://ipywidgets.readthedocs.io/en/stable/user_install.html\n",
      "  from .autonotebook import tqdm as notebook_tqdm\n"
     ]
    }
   ],
   "source": [
    "# Initialize the first HuggingFaceEndpoint and model for generating notes.\n",
    "llm = HuggingFaceEndpoint(\n",
    "    repo_id = \"meta-llama/Meta-Llama-3-8B-Instruct\",\n",
    "    task = 'text-generation'\n",
    ")\n",
    "\n",
    "model1 = ChatHuggingFace(llm=llm)"
   ]
  },
  {
   "cell_type": "code",
   "execution_count": null,
   "id": "dd891d20",
   "metadata": {},
   "outputs": [],
   "source": [
    "# Initialize the second HuggingFaceEndpoint and model for generating quiz questions.\n",
    "\n",
    "llm = HuggingFaceEndpoint(\n",
    "    repo_id = \"mistralai/Mixtral-8x7B-Instruct-v0.1\",\n",
    "    task = 'text-generation'\n",
    ")\n",
    "\n",
    "model2 = ChatHuggingFace(llm=llm)"
   ]
  },
  {
   "cell_type": "code",
   "execution_count": null,
   "id": "34449b8d",
   "metadata": {},
   "outputs": [],
   "source": [
    "# Create a prompt template for generating short and simple notes from a given text.\n",
    "\n",
    "prompt1 = PromptTemplate(\n",
    "    template=\"Generate short and simple notes from the following text \\n {text}\",\n",
    "    input_variables=['text']\n",
    "\n",
    ")"
   ]
  },
  {
   "cell_type": "code",
   "execution_count": null,
   "id": "87090d4f",
   "metadata": {},
   "outputs": [],
   "source": [
    "# Create a prompt template for generating 5 short question-answers from a given text.\n",
    "\n",
    "prompt2 = PromptTemplate(\n",
    "    template='Generate 5 short question answers from the following text \\n {text}',\n",
    "    input_variables=['text']\n",
    ")"
   ]
  },
  {
   "cell_type": "code",
   "execution_count": null,
   "id": "67ea83fe",
   "metadata": {},
   "outputs": [],
   "source": [
    "#  Create a prompt template for merging notes and quiz into a single document.\n",
    "prompt3 = PromptTemplate(\n",
    "    template = \"Merge the provided notes and quiz into a single document \\n notes -> {notes} and quiz -> {quiz}\",\n",
    "    input_variables=['notes', 'quiz']\n",
    ")"
   ]
  },
  {
   "cell_type": "code",
   "execution_count": null,
   "id": "a4467fce",
   "metadata": {},
   "outputs": [],
   "source": [
    "# Create a string output parser to extract plain text from the model's response.\n",
    "\n",
    "parser = StrOutputParser()"
   ]
  },
  {
   "cell_type": "code",
   "execution_count": null,
   "id": "40d64097",
   "metadata": {},
   "outputs": [],
   "source": [
    "# Build a parallel chain that generates notes and quiz in parallel using two different models.\n",
    "\n",
    "parallel_chain = RunnableParallel({\n",
    "    \"notes\" : prompt1 | model1 | parser,\n",
    "    'quiz': prompt2 | model2 | parser\n",
    "})"
   ]
  },
  {
   "cell_type": "code",
   "execution_count": null,
   "id": "41e80f69",
   "metadata": {},
   "outputs": [],
   "source": [
    "# Build a chain to merge the notes and quiz into a single document.\n",
    "\n",
    "merge_chain = prompt3 | model1 | parser"
   ]
  },
  {
   "cell_type": "code",
   "execution_count": null,
   "id": "ba7bebd0",
   "metadata": {},
   "outputs": [],
   "source": [
    "# Combine the parallel and merge chains into a single workflow.\n",
    "\n",
    "chain = parallel_chain | merge_chain"
   ]
  },
  {
   "cell_type": "code",
   "execution_count": null,
   "id": "adc8ac1f",
   "metadata": {},
   "outputs": [],
   "source": [
    "# Define a sample text about decision trees to be used as input for the chain.\n",
    "\n",
    "text = \"\"\"\n",
    "Decision Trees (DTs) are a non-parametric supervised learning method used for classification and regression. The goal is to create a model that predicts the value of a target variable by learning simple decision rules inferred from the data features. A tree can be seen as a piecewise constant approximation.\n",
    "\n",
    "For instance, in the example below, decision trees learn from data to approximate a sine curve with a set of if-then-else decision rules. The deeper the tree, the more complex the decision rules and the fitter the model.\n",
    "\n",
    "\n",
    "Some advantages of decision trees are:\n",
    "\n",
    "Simple to understand and to interpret. Trees can be visualized.\n",
    "\n",
    "Requires little data preparation. Other techniques often require data normalization, dummy variables need to be created and blank values to be removed. Some tree and algorithm combinations support missing values.\n",
    "\n",
    "The cost of using the tree (i.e., predicting data) is logarithmic in the number of data points used to train the tree.\n",
    "\n",
    "Able to handle both numerical and categorical data. However, the scikit-learn implementation does not support categorical variables for now. Other techniques are usually specialized in analyzing datasets that have only one type of variable. See algorithms for more information.\n",
    "\n",
    "Able to handle multi-output problems.\n",
    "\n",
    "Uses a white box model. If a given situation is observable in a model, the explanation for the condition is easily explained by boolean logic. By contrast, in a black box model (e.g., in an artificial neural network), results may be more difficult to interpret.\n",
    "\n",
    "Possible to validate a model using statistical tests. That makes it possible to account for the reliability of the model.\n",
    "\n",
    "Performs well even if its assumptions are somewhat violated by the true model from which the data were generated.\n",
    "\n",
    "The disadvantages of decision trees include:\n",
    "\n",
    "Decision-tree learners can create over-complex trees that do not generalize the data well. This is called overfitting. Mechanisms such as pruning, setting the minimum number of samples required at a leaf node or setting the maximum depth of the tree are necessary to avoid this problem.\n",
    "\n",
    "Decision trees can be unstable because small variations in the data might result in a completely different tree being generated. This problem is mitigated by using decision trees within an ensemble.\n",
    "\n",
    "Predictions of decision trees are neither smooth nor continuous, but piecewise constant approximations as seen in the above figure. Therefore, they are not good at extrapolation.\n",
    "\n",
    "The problem of learning an optimal decision tree is known to be NP-complete under several aspects of optimality and even for simple concepts. Consequently, practical decision-tree learning algorithms are based on heuristic algorithms such as the greedy algorithm where locally optimal decisions are made at each node. Such algorithms cannot guarantee to return the globally optimal decision tree. This can be mitigated by training multiple trees in an ensemble learner, where the features and samples are randomly sampled with replacement.\n",
    "\n",
    "There are concepts that are hard to learn because decision trees do not express them easily, such as XOR, parity or multiplexer problems.\n",
    "\n",
    "Decision tree learners create biased trees if some classes dominate. It is therefore recommended to balance the dataset prior to fitting with the decision tree.\n",
    "\"\"\""
   ]
  },
  {
   "cell_type": "code",
   "execution_count": null,
   "id": "e03afd4b",
   "metadata": {},
   "outputs": [
    {
     "name": "stdout",
     "output_type": "stream",
     "text": [
      "Here is the merged document:\n",
      "\n",
      "**Advantages and Disadvantages of Decision Trees**\n",
      "\n",
      "**Advantages of Decision Trees:**\n",
      "\n",
      "1. Simple to understand and interpret.\n",
      "2. Requires little data preparation.\n",
      "3. Can handle both numerical and categorical data.\n",
      "4. Can handle multi-output problems.\n",
      "5. Uses a white box model, making it easy to explain decisions.\n",
      "6. Can be validated using statistical tests.\n",
      "7. Performs well even with assumptions violated.\n",
      "\n",
      "**Disadvantages of Decision Trees:**\n",
      "\n",
      "1. Can create over-complex trees that don't generalize well (overfitting).\n",
      "2. Can be unstable due to small variations in data.\n",
      "3. Predictions are piecewise constant, not smooth or continuous.\n",
      "4. Not good at extrapolation.\n",
      "5. Problem of learning optimal decision tree is NP-complete.\n",
      "6. Can create biased trees if some classes dominate.\n",
      "7. Some concepts are hard to learn with decision trees (e.g., XOR, parity, multiplexer problems).\n",
      "\n",
      "**Quiz**\n",
      "\n",
      "1. What is the goal of Decision Trees in supervised learning?\n",
      "The goal of Decision Trees is to create a model that predicts the value of a target variable by learning simple decision rules inferred from the data features.\n",
      "\n",
      "2. What are some advantages of Decision Trees?\n",
      "Decision Trees are simple to understand, require little data preparation, have a logarithmic cost of prediction, can handle both numerical and categorical data, and perform well even with some violations of assumptions.\n",
      "\n",
      "3. How can overfitting be avoided in Decision Trees?\n",
      "Mechanisms such as pruning, setting the minimum number of samples required at a leaf node, or setting the maximum depth of the tree are necessary to avoid overfitting in Decision Trees.\n",
      "\n",
      "4. Why are Decision Trees unstable and how can it be mitigated?\n",
      "Decision Trees can be unstable because small variations in the data might result in a completely different tree being generated. This problem can be mitigated by using decision trees within an ensemble.\n",
      "\n",
      "5. What are some concepts difficult for Decision Trees to learn?\n",
      "Concepts that are hard to learn by Decision Trees include XOR, parity, or multiplexer problems, and they create biased trees when some classes dominate. It is recommended to balance the dataset prior to fitting with the decision tree.\n"
     ]
    }
   ],
   "source": [
    "# Invoke the combined chain with the sample text to generate notes and quiz, then merge them, and print the result.\n",
    "\n",
    "result = chain.invoke({'text':text })\n",
    "\n",
    "print(result)"
   ]
  },
  {
   "cell_type": "code",
   "execution_count": null,
   "id": "0cb6b61e",
   "metadata": {},
   "outputs": [
    {
     "name": "stdout",
     "output_type": "stream",
     "text": [
      "              +---------------------------+              \n",
      "              | Parallel<notes,quiz>Input |              \n",
      "              +---------------------------+              \n",
      "                  ***               ***                  \n",
      "               ***                     ***               \n",
      "             **                           **             \n",
      "+----------------+                    +----------------+ \n",
      "| PromptTemplate |                    | PromptTemplate | \n",
      "+----------------+                    +----------------+ \n",
      "          *                                   *          \n",
      "          *                                   *          \n",
      "          *                                   *          \n",
      "+-----------------+                  +-----------------+ \n",
      "| ChatHuggingFace |                  | ChatHuggingFace | \n",
      "+-----------------+                  +-----------------+ \n",
      "          *                                   *          \n",
      "          *                                   *          \n",
      "          *                                   *          \n",
      "+-----------------+                  +-----------------+ \n",
      "| StrOutputParser |                  | StrOutputParser | \n",
      "+-----------------+                  +-----------------+ \n",
      "                  ***               ***                  \n",
      "                     ***         ***                     \n",
      "                        **     **                        \n",
      "             +----------------------------+              \n",
      "             | Parallel<notes,quiz>Output |              \n",
      "             +----------------------------+              \n",
      "                            *                            \n",
      "                            *                            \n",
      "                            *                            \n",
      "                   +----------------+                    \n",
      "                   | PromptTemplate |                    \n",
      "                   +----------------+                    \n",
      "                            *                            \n",
      "                            *                            \n",
      "                            *                            \n",
      "                  +-----------------+                    \n",
      "                  | ChatHuggingFace |                    \n",
      "                  +-----------------+                    \n",
      "                            *                            \n",
      "                            *                            \n",
      "                            *                            \n",
      "                  +-----------------+                    \n",
      "                  | StrOutputParser |                    \n",
      "                  +-----------------+                    \n",
      "                            *                            \n",
      "                            *                            \n",
      "                            *                            \n",
      "                +-----------------------+                \n",
      "                | StrOutputParserOutput |                \n",
      "                +-----------------------+                \n"
     ]
    }
   ],
   "source": [
    "# Visualize the structure of the parallel and merge chain as an ASCII graph.\n",
    "\n",
    "chain.get_graph().print_ascii()"
   ]
  }
 ],
 "metadata": {
  "kernelspec": {
   "display_name": "venv",
   "language": "python",
   "name": "python3"
  },
  "language_info": {
   "codemirror_mode": {
    "name": "ipython",
    "version": 3
   },
   "file_extension": ".py",
   "mimetype": "text/x-python",
   "name": "python",
   "nbconvert_exporter": "python",
   "pygments_lexer": "ipython3",
   "version": "3.13.0"
  }
 },
 "nbformat": 4,
 "nbformat_minor": 5
}
