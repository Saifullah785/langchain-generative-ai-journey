{
 "cells": [
  {
   "cell_type": "markdown",
   "id": "8736a39b",
   "metadata": {},
   "source": [
    "# **simple_llm_app**"
   ]
  },
  {
   "cell_type": "code",
   "execution_count": 5,
   "id": "20cf33af",
   "metadata": {},
   "outputs": [
    {
     "data": {
      "text/plain": [
       "True"
      ]
     },
     "execution_count": 5,
     "metadata": {},
     "output_type": "execute_result"
    }
   ],
   "source": [
    "from langchain_huggingface import HuggingFaceEndpoint, ChatHuggingFace\n",
    "from langchain.prompts import PromptTemplate\n",
    "from dotenv import load_dotenv\n",
    "\n",
    "# load environment variable from (such as api keys) .env file\n",
    "load_dotenv()"
   ]
  },
  {
   "cell_type": "code",
   "execution_count": 6,
   "id": "f459cc46",
   "metadata": {},
   "outputs": [
    {
     "name": "stderr",
     "output_type": "stream",
     "text": [
      "d:\\practicing_langchain_models\\venv\\Lib\\site-packages\\tqdm\\auto.py:21: TqdmWarning: IProgress not found. Please update jupyter and ipywidgets. See https://ipywidgets.readthedocs.io/en/stable/user_install.html\n",
      "  from .autonotebook import tqdm as notebook_tqdm\n"
     ]
    }
   ],
   "source": [
    "# Initialize the HuggingFaceEndpoint with the Meta-Llama model for text generation.\n",
    "\n",
    "llm = HuggingFaceEndpoint(\n",
    "    repo_id = \"meta-llama/Meta-Llama-3-8B-Instruct\",\n",
    "    task = 'text-generation'\n",
    ")"
   ]
  },
  {
   "cell_type": "code",
   "execution_count": 7,
   "id": "c70db901",
   "metadata": {},
   "outputs": [],
   "source": [
    "# Wrap the endpoint in a ChatHuggingFace object for chat-style interaction.\n",
    "\n",
    "model = ChatHuggingFace(llm=llm)"
   ]
  },
  {
   "cell_type": "code",
   "execution_count": 8,
   "id": "38375ba2",
   "metadata": {},
   "outputs": [
    {
     "name": "stderr",
     "output_type": "stream",
     "text": [
      "C:\\Users\\hp\\AppData\\Local\\Temp\\ipykernel_18480\\1284393462.py:23: LangChainDeprecationWarning: The method `BaseChatModel.predict` was deprecated in langchain-core 0.1.7 and will be removed in 1.0. Use :meth:`~invoke` instead.\n",
      "  blog_title = model.predict(formatted_prompt)\n"
     ]
    },
    {
     "name": "stdout",
     "output_type": "stream",
     "text": [
      "Generated blog title: Here are a few suggestions for catchy blog titles about automation:\n",
      "\n",
      "1. **\"Automate This!\"** - A playful title that encourages readers to explore the world of automation.\n",
      "2. **\"The Automation Insider\"** - A title that positions the blog as a trusted source of information and expertise in automation.\n",
      "3. **\"Rise of the Machines: Automation Trends\"** - A title that highlights the exciting developments in automation and its impact on industries.\n",
      "4. **\"Automate, Optimize, Repeat\"** - A catchy title that emphasizes the benefits of automation in streamlining processes and improving efficiency.\n",
      "5. **\"The Automation Chronicles\"** - A title that suggests a narrative or storytelling approach to exploring the world of automation.\n",
      "6. **\"Beyond Automation: The Future of Work\"** - A title that looks beyond the technology itself and explores the broader implications of automation on society and the workplace.\n",
      "7. **\"Automation Nation: The Future is Now\"** - A title that emphasizes the rapid pace of change in automation and its consequences for businesses and individuals.\n",
      "8. **\"The Automation Playbook\"** - A title that positions the blog as a go-to resource for guidance and best practices in automation.\n",
      "9. **\"Automating the Impossible\"** - A title that highlights the innovative and often surprising applications of automation technology.\n",
      "10. **\"The Automation Lab\"** - A title that suggests a hands-on, experimental approach to exploring and learning about automation.\n",
      "\n",
      "Choose the one that resonates with your brand and content style.\n"
     ]
    }
   ],
   "source": [
    "# * Create a Prompt Template\n",
    "\n",
    "prompt = PromptTemplate(\n",
    "    \n",
    "    input_variables=['topic'],\n",
    "\n",
    "    template='Suggest a catchy blog title about {topic}.'\n",
    "    \n",
    ")\n",
    "\n",
    "# Define the input\n",
    "\n",
    "# topic = input('Enter a topic')\n",
    "\n",
    "topic = 'automation'\n",
    "\n",
    "# Format the prompt manually using PromptTemplate\n",
    "\n",
    "formatted_prompt = prompt.format(topic = topic)\n",
    "\n",
    "# Call the LLM directly\n",
    "\n",
    "blog_title = model.predict(formatted_prompt)\n",
    "\n",
    "\n",
    "# Print the Output\n",
    "\n",
    "print('Generated blog title:', blog_title)\n"
   ]
  },
  {
   "cell_type": "markdown",
   "id": "f3f019f4",
   "metadata": {},
   "source": [
    "# **TXT Reader App**"
   ]
  },
  {
   "cell_type": "code",
   "execution_count": null,
   "id": "3c5deeeb",
   "metadata": {},
   "outputs": [
    {
     "data": {
      "text/plain": [
       "True"
      ]
     },
     "execution_count": 34,
     "metadata": {},
     "output_type": "execute_result"
    }
   ],
   "source": [
    "# import necessary libraries\n",
    "from langchain.document_loaders import TextLoader\n",
    "from langchain.text_splitter import RecursiveCharacterTextSplitter\n",
    "from langchain.vectorstores import FAISS\n",
    "from langchain_huggingface import HuggingFaceEmbeddings,HuggingFaceEndpoint,ChatHuggingFace\n",
    "from dotenv import load_dotenv\n",
    "import os\n",
    "# load environment variable from (such as api keys) .env file\n",
    "load_dotenv()\n"
   ]
  },
  {
   "cell_type": "code",
   "execution_count": null,
   "id": "95894a59",
   "metadata": {},
   "outputs": [],
   "source": [
    "# Initialize the HuggingFaceEndpoint with the Meta-Llama model for text generation.\n",
    "\n",
    "model = HuggingFaceEmbeddings(\n",
    "    repo_id = \"sentence-transformers/all-MiniLM-L6-v2\",\n",
    "    task = 'text-generation'\n",
    ")\n",
    "\n",
    "# Wrap the endpoint in a ChatHuggingFace object for chat-style interaction.\n",
    "\n",
    "model = ChatHuggingFace(llm=llm)"
   ]
  },
  {
   "cell_type": "code",
   "execution_count": 37,
   "id": "087f492b",
   "metadata": {},
   "outputs": [],
   "source": [
    "# load the document\n",
    "\n",
    "loader = TextLoader('docs.txt') # Ensure docs.txt exists\n",
    "documents = loader.load()"
   ]
  },
  {
   "cell_type": "code",
   "execution_count": 38,
   "id": "6d12eaeb",
   "metadata": {},
   "outputs": [],
   "source": [
    "# split the text into smaller chunks\n",
    "\n",
    "text_splitter = RecursiveCharacterTextSplitter(chunk_size=500, chunk_overlap=50)\n",
    "docs = text_splitter.split_documents(documents)\n",
    "\n"
   ]
  },
  {
   "cell_type": "code",
   "execution_count": null,
   "id": "359e97f9",
   "metadata": {},
   "outputs": [],
   "source": [
    "#  Convert text into embeddings & store in FAISS\n",
    "\n",
    "\n",
    "vectorstore = FAISS.from_documents(docs, HuggingFaceEmbeddings())"
   ]
  },
  {
   "cell_type": "code",
   "execution_count": null,
   "id": "259ae615",
   "metadata": {},
   "outputs": [],
   "source": [
    "# Create a retrieve (fetches relavant documents)\n",
    "\n",
    "retrieve = vectorstore.as_retriever()\n"
   ]
  },
  {
   "cell_type": "code",
   "execution_count": null,
   "id": "5df8c4a3",
   "metadata": {},
   "outputs": [],
   "source": [
    "# Manually Retrieve Relevant Documents\n",
    "\n",
    "query = 'what are the key takeways from the document?'\n",
    "retrieved_docs = retrieve.get_relevant_documents(query)"
   ]
  },
  {
   "cell_type": "code",
   "execution_count": null,
   "id": "96f26f87",
   "metadata": {},
   "outputs": [],
   "source": [
    "# combine retrieved text into a single prompt\n",
    "\n",
    "retrieved_text = '\\n'.join({doc.page_content for doc in retrieved_docs})"
   ]
  },
  {
   "cell_type": "code",
   "execution_count": null,
   "id": "e1d0eaea",
   "metadata": {},
   "outputs": [],
   "source": [
    "# Manually pass Retrieved Text to LLM\n",
    "\n",
    "prompt = f'Based on the following text, answer the question: {query}\\n\\n{retrieved_text}'\n",
    "\n",
    "answer = model.predict(prompt)"
   ]
  },
  {
   "cell_type": "code",
   "execution_count": null,
   "id": "75a7d423",
   "metadata": {},
   "outputs": [],
   "source": [
    "# print the answer\n",
    "print('Answer:', answer)"
   ]
  }
 ],
 "metadata": {
  "kernelspec": {
   "display_name": "venv",
   "language": "python",
   "name": "python3"
  },
  "language_info": {
   "codemirror_mode": {
    "name": "ipython",
    "version": 3
   },
   "file_extension": ".py",
   "mimetype": "text/x-python",
   "name": "python",
   "nbconvert_exporter": "python",
   "pygments_lexer": "ipython3",
   "version": "3.13.0"
  }
 },
 "nbformat": 4,
 "nbformat_minor": 5
}
